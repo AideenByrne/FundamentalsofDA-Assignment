{
 "cells": [
  {
   "cell_type": "markdown",
   "metadata": {},
   "source": [
    "# Anscombe's Quartet Dataset - An Investigation"
   ]
  },
  {
   "cell_type": "markdown",
   "metadata": {},
   "source": [
    "## Background\n",
    "Francis Anscombe submitted a paper to *The American Stastician* in February 1973 titled **Graphs in Statistical Analysis** in which he presented four fictitious data sets, each of eleven (x,y) pairs that yielded...\n",
    "The purpose of Anscombe's data sets was to demonstrate the importance of visualising data before analysing it and also, the effects of outliers on statistics.  Anscombe posited that \"a computer should make *both* calculations and graphs. Both sorts of output should be studied; each will contribute to understanding\"."
   ]
  },
  {
   "cell_type": "code",
   "execution_count": 1,
   "metadata": {},
   "outputs": [],
   "source": [
    "import numpy as np"
   ]
  }
 ],
 "metadata": {
  "kernelspec": {
   "display_name": "Python 3",
   "language": "python",
   "name": "python3"
  },
  "language_info": {
   "codemirror_mode": {
    "name": "ipython",
    "version": 3
   },
   "file_extension": ".py",
   "mimetype": "text/x-python",
   "name": "python",
   "nbconvert_exporter": "python",
   "pygments_lexer": "ipython3",
   "version": "3.6.6"
  }
 },
 "nbformat": 4,
 "nbformat_minor": 2
}
